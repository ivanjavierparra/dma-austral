{
 "cells": [
  {
   "cell_type": "code",
   "execution_count": 41,
   "metadata": {},
   "outputs": [
    {
     "name": "stdout",
     "output_type": "stream",
     "text": [
      "gen\tnevals\n",
      "0  \t50    \n",
      "1  \t28    \n",
      "2  \t23    \n",
      "3  \t31    \n",
      "4  \t23    \n",
      "5  \t27    \n",
      "Mejor individuo es [3.0551871391250054], (4.053118577617694,)\n"
     ]
    }
   ],
   "source": [
    "from deap import base, creator, tools, algorithms\n",
    "import random\n",
    "from math import sin, pi\n",
    "\n",
    "# Establece una semilla aleatoria para reproducibilidad\n",
    "#random.seed(42)\n",
    "\n",
    "# Define las clases Fitness e Individual\n",
    "creator.create(\"FitnessMax\", base.Fitness, weights=(1.0,))\n",
    "creator.create(\"Individual\", list, fitness=creator.FitnessMax)\n",
    "\n",
    "# Función para inicializar individuos y población\n",
    "toolbox = base.Toolbox()\n",
    "toolbox.register(\"attr_float\", random.uniform, 0, pi)\n",
    "toolbox.register(\"individual\", tools.initRepeat, creator.Individual, toolbox.attr_float, n=1)\n",
    "toolbox.register(\"population\", tools.initRepeat, list, toolbox.individual)\n",
    "\n",
    "# Definición de la función de fitness\n",
    "def evalOneMax(individual):\n",
    "    x = individual[0]\n",
    "    return x + abs(sin(128*x)),\n",
    "\n",
    "# Decorador para chequear y asegurar los límites de los valores\n",
    "def checkBounds(min, max):\n",
    "    def decorator(func):\n",
    "        def wrapper(*args, **kargs):\n",
    "            offspring = func(*args, **kargs)\n",
    "            for child in offspring:\n",
    "                if child[0] > max:\n",
    "                    child[0] = max\n",
    "                elif child[0] < min:\n",
    "                    child[0] = min\n",
    "            return offspring\n",
    "        return wrapper\n",
    "    return decorator\n",
    "\n",
    "# Registra operaciones genéticas con chequeo de límites\n",
    "toolbox.register(\"mate\", tools.cxBlend, alpha=0.5)\n",
    "toolbox.register(\"mutate\", tools.mutGaussian, mu=0, sigma=0.1, indpb=0.2)\n",
    "toolbox.register(\"select\", tools.selTournament, tournsize=3)\n",
    "\n",
    "# Aplica el decorador de chequeo de límites\n",
    "toolbox.decorate(\"mate\", checkBounds(0,  pi))\n",
    "toolbox.decorate(\"mutate\", checkBounds(0, pi))\n",
    "\n",
    "# Registra la función de evaluación\n",
    "toolbox.register(\"evaluate\", evalOneMax)\n",
    "\n",
    "# Crea población inicial y ejecuta el algoritmo genético\n",
    "population = toolbox.population(n=50)\n",
    "NGEN = 5\n",
    "CXPB = 0.5\n",
    "MUTPB = 0.2\n",
    "\n",
    "population, logbook = algorithms.eaSimple(population, toolbox, cxpb=CXPB, mutpb=MUTPB, ngen=NGEN, verbose=True)\n",
    "\n",
    "# Muestra el resultado\n",
    "best_ind = tools.selBest(population, 1)[0]\n",
    "print(\"Mejor individuo es %s, %s\" % (best_ind, best_ind.fitness.values))"
   ]
  }
 ],
 "metadata": {
  "kernelspec": {
   "display_name": "base",
   "language": "python",
   "name": "python3"
  },
  "language_info": {
   "codemirror_mode": {
    "name": "ipython",
    "version": 3
   },
   "file_extension": ".py",
   "mimetype": "text/x-python",
   "name": "python",
   "nbconvert_exporter": "python",
   "pygments_lexer": "ipython3",
   "version": "3.11.7"
  }
 },
 "nbformat": 4,
 "nbformat_minor": 2
}
